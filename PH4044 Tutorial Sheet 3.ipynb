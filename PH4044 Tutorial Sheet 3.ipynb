{
 "cells": [
  {
   "attachments": {},
   "cell_type": "markdown",
   "metadata": {},
   "source": [
    "## PH4044 Tutorial 3"
   ]
  },
  {
   "cell_type": "code",
   "execution_count": 2,
   "metadata": {},
   "outputs": [],
   "source": [
    "import numpy as np \n",
    "import matplotlib.pyplot as plt\n",
    "import scipy.integrate as integrate"
   ]
  },
  {
   "attachments": {},
   "cell_type": "markdown",
   "metadata": {},
   "source": [
    "### Question 1"
   ]
  },
  {
   "attachments": {},
   "cell_type": "markdown",
   "metadata": {},
   "source": [
    "#### NOTES TO MYSELF\n",
    "- Question seems to allow use to vary $\\eta_f$. The challenge is going to be comming up with a suitable scale. \n",
    "- $E$ / $eta$ we can intentionally set to a specific value I think and vary $\\eta_f$ around it."
   ]
  },
  {
   "cell_type": "code",
   "execution_count": 8,
   "metadata": {},
   "outputs": [],
   "source": [
    "# Define all constants\n",
    "T = 23 + 273.15 # K\n",
    "m_0 = 9.109E-31 # kg\n",
    "k_B = 1.381E-23 # J/K\n",
    "hbar = 1.055E-34"
   ]
  },
  {
   "cell_type": "code",
   "execution_count": 11,
   "metadata": {},
   "outputs": [],
   "source": [
    "# Define the effective concentration\n",
    "def N_c(m_e, T):\n",
    "    return 2*((m_e*k_B*T)/(2*np.pi*hbar**2))**(3/2)\n",
    "\n",
    "# Define the Fermi Integral\n",
    "def F_half(eta_f):\n",
    "    F_half_values = []\n",
    "    for eta_value in eta_f:\n",
    "        integrand = lambda eta: (eta**(1/2))/(1+np.exp(eta-eta_value))\n",
    "        F_half_values.append(integrate.quad(integrand, 0, np.inf)[0])\n",
    "    return np.array(F_half_values)\n",
    "    \n",
    "\n",
    "# Define the n using the Fermi-dirac distribution \n",
    "def n_f(eta_f, m_e, T):\n",
    "    return (2/np.sqrt(np.pi))*N_c(m_e, T)*F_half(eta_f)\n",
    "\n",
    "# Define n using the Boltzmann Approximation\n",
    "def n_b(eta_f, m_e, T):\n",
    "    return N_c(m_e, T)*np.exp(eta_f)"
   ]
  },
  {
   "cell_type": "code",
   "execution_count": 14,
   "metadata": {},
   "outputs": [
    {
     "name": "stderr",
     "output_type": "stream",
     "text": [
      "/var/folders/0m/gfqnwnj15yb3_ysgltf_03440000gn/T/ipykernel_971/3274783136.py:9: RuntimeWarning: overflow encountered in exp\n",
      "  integrand = lambda eta: (eta**(1/2))/(1+np.exp(eta-eta_value))\n"
     ]
    },
    {
     "data": {
      "text/plain": [
       "array([2.45904791e+25, 2.71766824e+25, 3.00348790e+25, 3.31936748e+25,\n",
       "       3.66846841e+25, 4.05428460e+25, 4.48067743e+25, 4.95191439e+25,\n",
       "       5.47271177e+25, 6.04828190e+25, 6.68438526e+25, 7.38738819e+25,\n",
       "       8.16432659e+25, 9.02297631e+25, 9.97193101e+25, 1.10206882e+26,\n",
       "       1.21797440e+26, 1.34606989e+26, 1.48763730e+26, 1.64409348e+26,\n",
       "       1.81700430e+26, 2.00810031e+26, 2.21929406e+26, 2.45269925e+26,\n",
       "       2.71065189e+26, 2.99573363e+26, 3.31079769e+26, 3.65899732e+26,\n",
       "       4.04381743e+26, 4.46910942e+26, 4.93912976e+26, 5.45858258e+26,\n",
       "       6.03266672e+26, 6.66712781e+26, 7.36831577e+26, 8.14324830e+26,\n",
       "       8.99968120e+26, 9.94618593e+26, 1.09922354e+27, 1.21482989e+27,\n",
       "       1.34259467e+27, 1.48379658e+27, 1.63984883e+27, 1.81231324e+27,\n",
       "       2.00291589e+27, 2.21356439e+27, 2.44636699e+27, 2.70365365e+27,\n",
       "       2.98799939e+27, 3.30225002e+27, 3.64955069e+27, 4.03337729e+27,\n",
       "       4.45757128e+27, 4.92637814e+27, 5.44448986e+27, 6.01709185e+27,\n",
       "       6.64991493e+27, 7.34929258e+27, 8.12222443e+27, 8.97644623e+27,\n",
       "       9.92050732e+27, 1.09638562e+28, 1.21169350e+28, 1.33912842e+28,\n",
       "       1.47996578e+28, 1.63561514e+28, 1.80763429e+28, 1.99774485e+28,\n",
       "       2.20784951e+28, 2.44005107e+28, 2.69667348e+28, 2.98028510e+28,\n",
       "       3.29372443e+28, 3.64012845e+28, 4.02296410e+28, 4.44606292e+28,\n",
       "       4.91365944e+28, 5.43043352e+28, 6.00155720e+28, 6.63274648e+28,\n",
       "       7.33031852e+28, 8.10125484e+28, 8.95327125e+28, 9.89489501e+28,\n",
       "       1.09355502e+29, 1.20856521e+29, 1.33567112e+29, 1.47614488e+29,\n",
       "       1.63139239e+29, 1.80296742e+29, 1.99258716e+29, 2.20214938e+29,\n",
       "       2.43375146e+29, 2.68971133e+29, 2.97259074e+29, 3.28522084e+29,\n",
       "       3.63073053e+29, 4.01257779e+29, 4.43458428e+29, 4.90097358e+29])"
      ]
     },
     "execution_count": 14,
     "metadata": {},
     "output_type": "execute_result"
    }
   ],
   "source": [
    "eta_f = np.arange(0, 10, 0.1)\n",
    "n_f(eta_f, m_0, T)\n",
    "n_b(eta_f, m_0, T)"
   ]
  },
  {
   "attachments": {},
   "cell_type": "markdown",
   "metadata": {},
   "source": [
    "### NOTES TO MYSELF\n",
    "- The reason I've got these crazy values is because I'm totally ignoring the scale of $E_f$, $E_c$ and $kT$ when generating my $\\eta_f$ values. \n",
    "- I need to generate values that are on the correct order of magnitude. \n",
    "- I would also generally expect $\\eta_f < 0$ if the fermi energy is lower than the conduction band energy (which it should be in almost every case bar maybe doping). "
   ]
  },
  {
   "cell_type": "code",
   "execution_count": 17,
   "metadata": {},
   "outputs": [
    {
     "name": "stderr",
     "output_type": "stream",
     "text": [
      "/var/folders/0m/gfqnwnj15yb3_ysgltf_03440000gn/T/ipykernel_971/3274783136.py:9: RuntimeWarning: overflow encountered in exp\n",
      "  integrand = lambda eta: (eta**(1/2))/(1+np.exp(eta-eta_value))\n"
     ]
    },
    {
     "data": {
      "text/plain": [
       "<matplotlib.legend.Legend at 0x7fa978475a90>"
      ]
     },
     "execution_count": 17,
     "metadata": {},
     "output_type": "execute_result"
    },
    {
     "data": {
      "image/png": "[encoded data removed]",
      "text/plain": [
       "<Figure size 432x288 with 1 Axes>"
      ]
     },
     "metadata": {
      "needs_background": "light"
     },
     "output_type": "display_data"
    }
   ],
   "source": [
    "# Plot n_b against n_f \n",
    "eta_f = np.arange(0, 1, 0.1)\n",
    "\n",
    "fig = plt.figure()\n",
    "plt.plot(eta_f, n_f(eta_f, m_0, T), label='n_f')\n",
    "plt.plot(eta_f, n_b(eta_f, m_0, T), label='n_b')\n",
    "plt.legend()\n"
   ]
  }
 ],
 "metadata": {
  "kernelspec": {
   "display_name": "physics",
   "language": "python",
   "name": "python3"
  },
  "language_info": {
   "codemirror_mode": {
    "name": "ipython",
    "version": 3
   },
   "file_extension": ".py",
   "mimetype": "text/x-python",
   "name": "python",
   "nbconvert_exporter": "python",
   "pygments_lexer": "ipython3",
   "version": "3.9.7"
  },
  "orig_nbformat": 4,
  "vscode": {
   "interpreter": {
    "hash": "8ba1142ca1c15fd140372502dea2c7ffc73c9bc8aa56dce576b569b3d1112731"
   }
  }
 },
 "nbformat": 4,
 "nbformat_minor": 2
}
