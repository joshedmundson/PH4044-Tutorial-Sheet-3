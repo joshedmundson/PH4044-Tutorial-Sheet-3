{
 "cells": [
  {
   "attachments": {},
   "cell_type": "markdown",
   "metadata": {},
   "source": [
    "## PH4044 Tutorial 3"
   ]
  },
  {
   "cell_type": "code",
   "execution_count": 2,
   "metadata": {},
   "outputs": [],
   "source": [
    "import numpy as np \n",
    "import matplotlib.pyplot as plt\n",
    "import scipy.integrate as integrate"
   ]
  },
  {
   "attachments": {},
   "cell_type": "markdown",
   "metadata": {},
   "source": [
    "### Question 1"
   ]
  },
  {
   "attachments": {},
   "cell_type": "markdown",
   "metadata": {},
   "source": [
    "#### NOTES TO MYSELF\n",
    "- Question seems to allow use to vary $\\eta_f$. The challenge is going to be comming up with a suitable scale. \n",
    "- $E$ / $eta$ we can intentionally set to a specific value I think and vary $\\eta_f$ around it."
   ]
  },
  {
   "cell_type": "code",
   "execution_count": 10,
   "metadata": {},
   "outputs": [],
   "source": [
    "# Define all constants\n",
    "T = 23 + 273.15 # K\n",
    "m_0 = 9.109E-31 # kg\n",
    "k_B = 1.381E-23 # J/K\n",
    "hbar = 1.055E-34"
   ]
  },
  {
   "cell_type": "code",
   "execution_count": 3,
   "metadata": {},
   "outputs": [],
   "source": [
    "# Define the effective concentration\n",
    "def N_c(m_e, T):\n",
    "    return 2*((m_e*k_B*T)/(2*np.pi*hbar**2))**(3/2)\n",
    "\n",
    "# Define the Fermi Integral\n",
    "def F_half(eta_f):\n",
    "    F_half_values = []\n",
    "    for eta_value in eta_f:\n",
    "        integrand = lambda eta: (eta**(1/2))/(1+np.exp(eta-eta_value))\n",
    "        F_half_values.append(integrate.quad(integrand, 0, np.inf)[0])\n",
    "    return np.array(F_half_values)\n",
    "    \n",
    "\n",
    "# Define the n using the Fermi-dirac distribution \n",
    "def n_f(eta_f, m_e, T):\n",
    "    return (2/np.sqrt(np.pi))*N_c(m_e, T)*F_half(eta_f)\n",
    "\n",
    "# Define n using the Boltzmann Approximation\n",
    "def n_b(eta_f, m_e, T):\n",
    "    return N_c(m_e, T)*np.exp(eta_f)"
   ]
  },
  {
   "cell_type": "code",
   "execution_count": 4,
   "metadata": {},
   "outputs": [
    {
     "name": "stderr",
     "output_type": "stream",
     "text": [
      "/var/folders/0m/gfqnwnj15yb3_ysgltf_03440000gn/T/ipykernel_1006/3274783136.py:9: RuntimeWarning: overflow encountered in exp\n",
      "  integrand = lambda eta: (eta**(1/2))/(1+np.exp(eta-eta_value))\n"
     ]
    },
    {
     "data": {
      "text/plain": [
       "array([2.45904791e+25, 2.71766824e+25, 3.00348790e+25, 3.31936748e+25,\n",
       "       3.66846841e+25, 4.05428460e+25, 4.48067743e+25, 4.95191439e+25,\n",
       "       5.47271177e+25, 6.04828190e+25, 6.68438526e+25, 7.38738819e+25,\n",
       "       8.16432659e+25, 9.02297631e+25, 9.97193101e+25, 1.10206882e+26,\n",
       "       1.21797440e+26, 1.34606989e+26, 1.48763730e+26, 1.64409348e+26,\n",
       "       1.81700430e+26, 2.00810031e+26, 2.21929406e+26, 2.45269925e+26,\n",
       "       2.71065189e+26, 2.99573363e+26, 3.31079769e+26, 3.65899732e+26,\n",
       "       4.04381743e+26, 4.46910942e+26, 4.93912976e+26, 5.45858258e+26,\n",
       "       6.03266672e+26, 6.66712781e+26, 7.36831577e+26, 8.14324830e+26,\n",
       "       8.99968120e+26, 9.94618593e+26, 1.09922354e+27, 1.21482989e+27,\n",
       "       1.34259467e+27, 1.48379658e+27, 1.63984883e+27, 1.81231324e+27,\n",
       "       2.00291589e+27, 2.21356439e+27, 2.44636699e+27, 2.70365365e+27,\n",
       "       2.98799939e+27, 3.30225002e+27, 3.64955069e+27, 4.03337729e+27,\n",
       "       4.45757128e+27, 4.92637814e+27, 5.44448986e+27, 6.01709185e+27,\n",
       "       6.64991493e+27, 7.34929258e+27, 8.12222443e+27, 8.97644623e+27,\n",
       "       9.92050732e+27, 1.09638562e+28, 1.21169350e+28, 1.33912842e+28,\n",
       "       1.47996578e+28, 1.63561514e+28, 1.80763429e+28, 1.99774485e+28,\n",
       "       2.20784951e+28, 2.44005107e+28, 2.69667348e+28, 2.98028510e+28,\n",
       "       3.29372443e+28, 3.64012845e+28, 4.02296410e+28, 4.44606292e+28,\n",
       "       4.91365944e+28, 5.43043352e+28, 6.00155720e+28, 6.63274648e+28,\n",
       "       7.33031852e+28, 8.10125484e+28, 8.95327125e+28, 9.89489501e+28,\n",
       "       1.09355502e+29, 1.20856521e+29, 1.33567112e+29, 1.47614488e+29,\n",
       "       1.63139239e+29, 1.80296742e+29, 1.99258716e+29, 2.20214938e+29,\n",
       "       2.43375146e+29, 2.68971133e+29, 2.97259074e+29, 3.28522084e+29,\n",
       "       3.63073053e+29, 4.01257779e+29, 4.43458428e+29, 4.90097358e+29])"
      ]
     },
     "execution_count": 4,
     "metadata": {},
     "output_type": "execute_result"
    }
   ],
   "source": [
    "eta_f = np.arange(0, 10, 0.1)\n",
    "n_f(eta_f, m_0, T)\n",
    "n_b(eta_f, m_0, T)"
   ]
  },
  {
   "attachments": {},
   "cell_type": "markdown",
   "metadata": {},
   "source": [
    "### NOTES TO MYSELF\n",
    "- The reason I've got these crazy values is because I'm totally ignoring the scale of $E_f$, $E_c$ and $kT$ when generating my $\\eta_f$ values. \n",
    "- I need to generate values that are on the correct order of magnitude. \n",
    "- I would also generally expect $\\eta_f < 0$ if the fermi energy is lower than the conduction band energy (which it should be in almost every case bar maybe doping). "
   ]
  },
  {
   "cell_type": "code",
   "execution_count": 5,
   "metadata": {},
   "outputs": [
    {
     "name": "stderr",
     "output_type": "stream",
     "text": [
      "/var/folders/0m/gfqnwnj15yb3_ysgltf_03440000gn/T/ipykernel_1006/3274783136.py:9: RuntimeWarning: overflow encountered in exp\n",
      "  integrand = lambda eta: (eta**(1/2))/(1+np.exp(eta-eta_value))\n"
     ]
    },
    {
     "data": {
      "text/plain": [
       "<matplotlib.legend.Legend at 0x7fc4e0c7ca00>"
      ]
     },
     "execution_count": 5,
     "metadata": {},
     "output_type": "execute_result"
    },
    {
     "data": {
      "image/png": "[encoded data removed]",
      "text/plain": [
       "<Figure size 432x288 with 1 Axes>"
      ]
     },
     "metadata": {
      "needs_background": "light"
     },
     "output_type": "display_data"
    }
   ],
   "source": [
    "# Plot n_b against n_f \n",
    "eta_f = np.arange(0, 1, 0.1)\n",
    "\n",
    "fig = plt.figure()\n",
    "plt.plot(eta_f, n_f(eta_f, m_0, T), label='n_f')\n",
    "plt.plot(eta_f, n_b(eta_f, m_0, T), label='n_b')\n",
    "plt.legend()\n"
   ]
  },
  {
   "attachments": {},
   "cell_type": "markdown",
   "metadata": {},
   "source": [
    "### Question 2"
   ]
  },
  {
   "attachments": {},
   "cell_type": "markdown",
   "metadata": {},
   "source": [
    "#### NOTES TO MYSELF\n",
    "Okay, what do I need to do here?\n",
    "\n",
    "a) State whether the semiconductor is n-type or p-type \n",
    "    - $V_H$ is negative, which suggests work is done by the electric field in moving positive charge in the direction idicated by the arrow on the diagram\n",
    "    - This suggests a build up of negative charge on the top plate or a build up of positive charge on the bottom plate \n",
    "    - Given both electrions and holes will be forced onto the bottom plate by the magnetic field, we thus conclude an excess of holes. It is a p-type dopant. (However, given the equations in the slides, I would imagine the negative sign indicates a build-up of electrons)\n",
    "\n",
    "b) I imagine there is some sort of equation for that \n",
    "    - \n",
    "\n",
    "c) Can we equate current density to the current and sub in the value we've been given for D_p? Wait, that includes the temperature. Maybe we could assume room temp? Hmm, that might do-away with the neccessary assumptions for a Boltzmann dist approximation"
   ]
  },
  {
   "attachments": {},
   "cell_type": "markdown",
   "metadata": {},
   "source": [
    "### Question 3"
   ]
  },
  {
   "attachments": {},
   "cell_type": "markdown",
   "metadata": {},
   "source": [
    "What do I need to do? \n",
    "\n",
    "- Solve the differential equation using a differential equation solver \n",
    "- Plot the carrier density for different temperatures and applied electric fields\n",
    "- Use the analytic solution to verify the results "
   ]
  },
  {
   "cell_type": "code",
   "execution_count": 11,
   "metadata": {},
   "outputs": [
    {
     "data": {
      "image/png": "[encoded data removed]",
      "text/plain": [
       "<Figure size 432x288 with 2 Axes>"
      ]
     },
     "metadata": {
      "needs_background": "light"
     },
     "output_type": "display_data"
    },
    {
     "data": {
      "text/plain": [
       "<pde.tools.plotting.PlotReference at 0x7fbc9c2e9900>"
      ]
     },
     "execution_count": 11,
     "metadata": {},
     "output_type": "execute_result"
    }
   ],
   "source": [
    "# We can us the py-pde library to solve the differential equation \n",
    "import pde \n",
    "\n",
    "# Define all the constants in the equation \n",
    "mu_p = 300e-4 # m^2 V^-1 s^-1 \n",
    "T = 10 # K\n",
    "E_0 = 100 # J\n",
    "tau_p = 1e-6 # s\n",
    "e = 1.6e-19 # C\n",
    "D_p = (mu_p * k_B * T) / e # I think units are Q m^2 s-1 though this doesn't make sense if J is current density.\n",
    "\n",
    "# Set up a grid of cartesian coordinates for the equation to solve\n",
    "grid = pde.CartesianGrid([[-5, 5]], [101])\n",
    "\n",
    "# Set up a Scalar Field which will correspond to the excess carriers \n",
    "delta_p = pde.ScalarField.from_expression(grid, \"exp(-x**2)\")\n",
    "# Now we can encode the partial differential equation (notes below on the formatting)\n",
    "# eq = pde.PDE({\"p\": \"D_p * d2_dx2(p) - mu_p * E_0 * d_dx(p) - p / tau_p\"}, consts=constants)\n",
    "eq = pde.PDE({\"p\": f\"({D_p}*d2_dx2(p)) - ({mu_p * E_0}*d_dx(p)) - (p / {tau_p})\"})\n",
    "# And solve \n",
    "storage = pde.MemoryStorage()\n",
    "result = eq.solve(delta_p, t_range=0.1, dt = 1e-6, tracker=storage.tracker(0.1))\n",
    "\n",
    "pde.plot_kymograph(storage)"
   ]
  },
  {
   "cell_type": "code",
   "execution_count": 78,
   "metadata": {},
   "outputs": [
    {
     "data": {
      "text/plain": [
       "2.5893749999999996e-05"
      ]
     },
     "execution_count": 78,
     "metadata": {},
     "output_type": "execute_result"
    }
   ],
   "source": [
    "D_p"
   ]
  },
  {
   "attachments": {},
   "cell_type": "markdown",
   "metadata": {},
   "source": [
    "Now that we've got the general code working, we can use it to explore the scenario set out in the question - largely, that we have $P_0$ = 1 at $x=t=0$"
   ]
  },
  {
   "cell_type": "code",
   "execution_count": 12,
   "metadata": {},
   "outputs": [
    {
     "data": {
      "image/png": "[encoded data removed]",
      "text/plain": [
       "<Figure size 432x288 with 2 Axes>"
      ]
     },
     "metadata": {
      "needs_background": "light"
     },
     "output_type": "display_data"
    },
    {
     "data": {
      "text/plain": [
       "<pde.tools.plotting.PlotReference at 0x7fbce9731b00>"
      ]
     },
     "execution_count": 12,
     "metadata": {},
     "output_type": "execute_result"
    }
   ],
   "source": [
    "import math \n",
    "\n",
    "# Set up the initial grid \n",
    "# grid = pde.CartesianGrid([[-1e-10, 1e-10]], [101])\n",
    "grid = pde.CartesianGrid([[-0.3, 0.3]], [101])\n",
    "\n",
    "# Create an initial delta_p distribution with total carriers P_0 = 1 at x = t = 0\n",
    "data = np.zeros(101)\n",
    "data[len(data)//2] = 1\n",
    "\n",
    "delta_p = pde.ScalarField(grid, data=data)\n",
    "\n",
    "# Solve and display equation solutions \n",
    "#eq = pde.PDE({\"p\": f\"{D_p}*d2_dx2(p) - {mu_p * E_0}*d_dx(p) - p / {tau_p}\"})\n",
    "eq = pde.PDE({\"p\": \"d2_dx2(p) - d_dx(p) - p\"})\n",
    "\n",
    "storage = pde.MemoryStorage()\n",
    "result = eq.solve(delta_p, t_range=1, dt = 1e-7, tracker=storage.tracker(0.2))\n",
    "\n",
    "pde.plot_kymograph(storage)"
   ]
  },
  {
   "cell_type": "code",
   "execution_count": 56,
   "metadata": {},
   "outputs": [
    {
     "data": {
      "image/png": "[encoded data removed]",
      "text/plain": [
       "<Figure size 432x288 with 2 Axes>"
      ]
     },
     "metadata": {
      "needs_background": "light"
     },
     "output_type": "display_data"
    },
    {
     "data": {
      "text/plain": [
       "<pde.tools.plotting.PlotReference at 0x7fbc68270cc0>"
      ]
     },
     "execution_count": 56,
     "metadata": {},
     "output_type": "execute_result"
    }
   ],
   "source": [
    "# We can us the py-pde library to solve the differential equation \n",
    "import pde \n",
    "\n",
    "# Define all the constants in the equation \n",
    "mu_p = 300e-4 # m^2 V^-1 s^-1 \n",
    "T = 1 # K\n",
    "E_0 = 0 # J\n",
    "tau_p = 1e-6 # s\n",
    "e = 1.6e-19 # C\n",
    "D_p = (mu_p * k_B * T) / e # I think units are Q m^2 s-1 though this doesn't make sense if J is current density.\n",
    "\n",
    "# Set up a grid of cartesian coordinates for the equation to solve\n",
    "grid = pde.CartesianGrid([[-5, 5]], [101])\n",
    "\n",
    "# Set up a Scalar Field which will correspond to the excess carriers \n",
    "delta_p = pde.ScalarField.from_expression(grid, \"20*exp(-x**2)\")\n",
    "# Now we can encode the partial differential equation (notes below on the formatting)\n",
    "# eq = pde.PDE({\"p\": \"D_p * d2_dx2(p) - mu_p * E_0 * d_dx(p) - p / tau_p\"}, consts=constants)\n",
    "eq = pde.PDE({\"p\": \"(d2_dx2(p)) - (d_dx(p)) - (p)\"})\n",
    "# And solve \n",
    "storage = pde.MemoryStorage()\n",
    "result = eq.solve(delta_p, t_range=2, dt = 1e-6, tracker=storage.tracker(0.1))\n",
    "\n",
    "pde.plot_kymograph(storage)"
   ]
  },
  {
   "cell_type": "code",
   "execution_count": 65,
   "metadata": {},
   "outputs": [
    {
     "name": "stderr",
     "output_type": "stream",
     "text": [
      "/opt/anaconda3/envs/physics/lib/python3.9/site-packages/pde/solvers/explicit.py:176: RuntimeWarning: invalid value encountered in add\n",
      "  state_data += dt * rhs_pde(state_data, t)\n"
     ]
    },
    {
     "data": {
      "image/png": "[encoded data removed]",
      "text/plain": [
       "<Figure size 432x288 with 2 Axes>"
      ]
     },
     "metadata": {
      "needs_background": "light"
     },
     "output_type": "display_data"
    },
    {
     "data": {
      "text/plain": [
       "<pde.tools.plotting.PlotReference at 0x7fbc68e4dfc0>"
      ]
     },
     "execution_count": 65,
     "metadata": {},
     "output_type": "execute_result"
    }
   ],
   "source": [
    "# We can us the py-pde library to solve the differential equation \n",
    "import pde \n",
    "\n",
    "# Define all the constants in the equation \n",
    "mu_p = 300e-4 # m^2 V^-1 s^-1 \n",
    "T = 10 # K\n",
    "E_0 = 10 # J\n",
    "tau_p = 1e-6 # s\n",
    "e = 1.6e-19 # C\n",
    "D_p = (mu_p * k_B * T) / e # I think units are Q m^2 s-1 though this doesn't make sense if J is current density.\n",
    "\n",
    "# Set up a grid of cartesian coordinates for the equation to solve\n",
    "grid = pde.CartesianGrid([[-1e-4, 1e-4]], [101])\n",
    "\n",
    "data = np.zeros(101)\n",
    "data[len(data)//2] = 20\n",
    "\n",
    "sigma = 1e-6\n",
    "\n",
    "# Set up a Scalar Field which will correspond to the excess carriers \n",
    "#delta_p = pde.ScalarField(grid, data=data)\n",
    "delta_p = pde.ScalarField.from_expression(grid, f\"exp(-x**2/{sigma})\")\n",
    "# Now we can encode the partial differential equation (notes below on the formatting)\n",
    "# eq = pde.PDE({\"p\": \"D_p * d2_dx2(p) - mu_p * E_0 * d_dx(p) - p / tau_p\"}, consts=constants)\n",
    "eq = pde.PDE({\"p\": f\"(d2_dx2(p)) - {E_0}*(d_dx(p)) - (p)\"})\n",
    "# And solve \n",
    "storage = pde.MemoryStorage()\n",
    "result = eq.solve(delta_p, t_range=0.5, dt = 1e-7, tracker=storage.tracker(0.1))\n",
    "\n",
    "pde.plot_kymograph(storage)"
   ]
  },
  {
   "attachments": {},
   "cell_type": "markdown",
   "metadata": {},
   "source": [
    "Plot the analytic result to see what happens "
   ]
  },
  {
   "cell_type": "code",
   "execution_count": 74,
   "metadata": {},
   "outputs": [],
   "source": [
    "mu_p = 300e-4 # m^2 V^-1 s^-1 \n",
    "T = 10 # K\n",
    "E_0 = 100 # J\n",
    "tau_p = 1e-6 # s\n",
    "e = 1.6e-19 # C\n",
    "D_p = (mu_p * k_B * T) / e # I think units are Q m^2 s-1 though this doesn't make sense if J is current density.\n",
    "k_B = 1.381E-23 # J/K\n",
    "\n",
    "def delta_p_analytic(x, t, mu_p=mu_p, D_p=D_p, E_0=E_0, tau_p=tau_p):\n",
    "    a = np.exp(-t/tau_p)/(4*np.pi*D_p*t)**2\n",
    "    b = np.exp(-(x-mu_p*E_0*t)**2 / (4*D_p*t))\n",
    "    return a*b"
   ]
  },
  {
   "cell_type": "code",
   "execution_count": 91,
   "metadata": {},
   "outputs": [],
   "source": [
    "mu_p = 300e-4 # m^2 V^-1 s^-1 \n",
    "T = 10 # K\n",
    "E_0 = 100 # J\n",
    "tau_p = 1e-6 # s\n",
    "e = 1.6e-19 # C\n",
    "D_p = (mu_p * k_B * T) / e # I think units are Q m^2 s-1 though this doesn't make sense if J is current density.\n",
    "k_B = 1.381E-23 # J/K\n",
    "\n",
    "def delta_p_analytic(x, t, mu_p=0.3, E_0=1, tau_p=1e-6, T=230):\n",
    "    D_p = (mu_p*k_B*T) / e\n",
    "    a = np.exp(-t/tau_p)/(4*np.pi*D_p*t)**2\n",
    "    b = np.exp(-(x-mu_p*E_0*t)**2 / (4*D_p*t))\n",
    "    return a*b"
   ]
  },
  {
   "cell_type": "code",
   "execution_count": 94,
   "metadata": {},
   "outputs": [],
   "source": [
    "x_bound = 1\n",
    "y_bound = 1e-5\n",
    "dt = y_bound*1e-2\n",
    "\n",
    "x = np.linspace(-x_bound, x_bound, 101)\n",
    "y = np.arange(0, y_bound, dt)\n",
    "\n",
    "[X, Y] = np.meshgrid(x, y)"
   ]
  },
  {
   "cell_type": "code",
   "execution_count": 95,
   "metadata": {},
   "outputs": [
    {
     "name": "stderr",
     "output_type": "stream",
     "text": [
      "/var/folders/0m/gfqnwnj15yb3_ysgltf_03440000gn/T/ipykernel_1340/3017485412.py:11: RuntimeWarning: divide by zero encountered in true_divide\n",
      "  a = np.exp(-t/tau_p)/(4*np.pi*D_p*t)**2\n",
      "/var/folders/0m/gfqnwnj15yb3_ysgltf_03440000gn/T/ipykernel_1340/3017485412.py:12: RuntimeWarning: divide by zero encountered in true_divide\n",
      "  b = np.exp(-(x-mu_p*E_0*t)**2 / (4*D_p*t))\n",
      "/var/folders/0m/gfqnwnj15yb3_ysgltf_03440000gn/T/ipykernel_1340/3017485412.py:12: RuntimeWarning: invalid value encountered in true_divide\n",
      "  b = np.exp(-(x-mu_p*E_0*t)**2 / (4*D_p*t))\n",
      "/var/folders/0m/gfqnwnj15yb3_ysgltf_03440000gn/T/ipykernel_1340/3017485412.py:13: RuntimeWarning: invalid value encountered in multiply\n",
      "  return a*b\n"
     ]
    },
    {
     "data": {
      "text/plain": [
       "<matplotlib.colorbar.Colorbar at 0x7fbc7985cd60>"
      ]
     },
     "execution_count": 95,
     "metadata": {},
     "output_type": "execute_result"
    },
    {
     "data": {
      "image/png": "[encoded data removed]",
      "text/plain": [
       "<Figure size 432x288 with 2 Axes>"
      ]
     },
     "metadata": {
      "needs_background": "light"
     },
     "output_type": "display_data"
    }
   ],
   "source": [
    "Z = delta_p_analytic(X, Y)\n",
    "\n",
    "plt.contourf(X, Y, Z)\n",
    "plt.colorbar()"
   ]
  },
  {
   "cell_type": "code",
   "execution_count": 45,
   "metadata": {},
   "outputs": [
    {
     "data": {
      "text/plain": [
       "9.435263246273782e+24"
      ]
     },
     "execution_count": 45,
     "metadata": {},
     "output_type": "execute_result"
    }
   ],
   "source": [
    "delta_p_analytic(1e-9, 1e-9)"
   ]
  }
 ],
 "metadata": {
  "kernelspec": {
   "display_name": "physics",
   "language": "python",
   "name": "python3"
  },
  "language_info": {
   "codemirror_mode": {
    "name": "ipython",
    "version": 3
   },
   "file_extension": ".py",
   "mimetype": "text/x-python",
   "name": "python",
   "nbconvert_exporter": "python",
   "pygments_lexer": "ipython3",
   "version": "3.9.7"
  },
  "orig_nbformat": 4,
  "vscode": {
   "interpreter": {
    "hash": "8ba1142ca1c15fd140372502dea2c7ffc73c9bc8aa56dce576b569b3d1112731"
   }
  }
 },
 "nbformat": 4,
 "nbformat_minor": 2
}
